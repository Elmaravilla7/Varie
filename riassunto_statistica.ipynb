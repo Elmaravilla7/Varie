{
 "cells": [
  {
   "cell_type": "code",
   "execution_count": 29,
   "id": "0c3b7454",
   "metadata": {},
   "outputs": [],
   "source": [
    "import pandas as pd\n",
    "import numpy as np\n",
    "import scipy as sp\n",
    "import seaborn as sns\n",
    "import matplotlib.pyplot as plt\n",
    "%matplotlib inline"
   ]
  },
  {
   "cell_type": "markdown",
   "id": "d82b40cc",
   "metadata": {},
   "source": [
    "# Distribuzione Binomiale (k successi su n tentativi)"
   ]
  },
  {
   "cell_type": "markdown",
   "id": "13530a2a",
   "metadata": {},
   "source": [
    "La Distribuzione Binomiale è una distribuzione di probabilità discreta utilizzata per calcolare la probabilità di ottenere un determinato numero di successi su una certa quantità di ripetizioni dello stesso esperimento.\n",
    "\n",
    "Le 4 condizioni fondamentali per applicare questo tipo di distribuzione sono le seguenti:\n",
    "\n",
    "I risultati possibili sono di successo o fallimento\n",
    "\n",
    "I risultati delle prove precedenti non influenzano il risultato di un'altra prova\n",
    "\n",
    "Il numero di prove è predeterminato\n",
    "\n",
    "La probabilità di successo di ogni prova deve sempre essere p\n",
    "\n",
    "I parametri utilizzati sono:\n",
    "\n",
    "n= il numero di prove\n",
    "\n",
    "p= probabilità di successo di ogni prova\n",
    "\n",
    "(n su p) p^k (1-p)^n-k"
   ]
  },
  {
   "cell_type": "markdown",
   "id": "ebe260aa",
   "metadata": {},
   "source": [
    "# Esempio 1"
   ]
  },
  {
   "cell_type": "markdown",
   "id": "4964bb14",
   "metadata": {},
   "source": [
    "Un nuovo Ristorante in città ha una probabilità di sopravvivere del 20% dopo il primo anno.\n",
    "Se quest'anno hanno aperto 14 ristoranti, qual'è la probabilità che esattamente 4 ristoranti sopravvivano dopo il primo anno?\n",
    "n= 14 p= 0.2"
   ]
  },
  {
   "cell_type": "code",
   "execution_count": 4,
   "id": "a170955f",
   "metadata": {},
   "outputs": [
    {
     "data": {
      "text/plain": [
       "0.1719704905318402"
      ]
     },
     "execution_count": 4,
     "metadata": {},
     "output_type": "execute_result"
    }
   ],
   "source": [
    "sp.stats.binom.pmf(k=4,n=14,p=0.2)"
   ]
  },
  {
   "cell_type": "markdown",
   "id": "d2413b1d",
   "metadata": {},
   "source": [
    "# Esempio 2"
   ]
  },
  {
   "cell_type": "markdown",
   "id": "5c097679",
   "metadata": {},
   "source": [
    "Una coppia ha un 25% di probabilità di avere un figlio con gruppo sanguigno 0.\n",
    "Qual'è la probabilità che 3 dei loro 5 figli abbiano il gruppo 0?\n",
    "n=5\n",
    "p=0.25"
   ]
  },
  {
   "cell_type": "code",
   "execution_count": 6,
   "id": "3882a295",
   "metadata": {},
   "outputs": [
    {
     "data": {
      "text/plain": [
       "0.08789062499999999"
      ]
     },
     "execution_count": 6,
     "metadata": {},
     "output_type": "execute_result"
    }
   ],
   "source": [
    "X_rv= sp.stats.binom(n=5,p=0.25)\n",
    "proba_3= X_rv.pmf(3)\n",
    "proba_3"
   ]
  },
  {
   "cell_type": "markdown",
   "id": "490f2d86",
   "metadata": {},
   "source": [
    "Qual è la probabilità che ALMENO 3 dei loro  5 figli abbiano il gruppo 0? P(X >= 3)"
   ]
  },
  {
   "cell_type": "code",
   "execution_count": 9,
   "id": "78ec2a65",
   "metadata": {},
   "outputs": [
    {
     "data": {
      "text/plain": [
       "0.10351562499999999"
      ]
     },
     "execution_count": 9,
     "metadata": {},
     "output_type": "execute_result"
    }
   ],
   "source": [
    "#Usando Pmf() #Probability Mass Function\n",
    "\n",
    "at_least_3= X_rv.pmf(3) + X_rv.pmf(4) + X_rv.pmf(5)\n",
    "at_least_3"
   ]
  },
  {
   "cell_type": "code",
   "execution_count": 10,
   "id": "ceac09e1",
   "metadata": {},
   "outputs": [
    {
     "data": {
      "text/plain": [
       "0.103515625"
      ]
     },
     "execution_count": 10,
     "metadata": {},
     "output_type": "execute_result"
    }
   ],
   "source": [
    "at_least_3_cdf= 1 - X_rv.cdf(2) #praticamente 100% (1) - probabilità accumulata (CDF) da 2 incluso a 0.\n",
    "at_least_3_cdf"
   ]
  },
  {
   "cell_type": "markdown",
   "id": "87f4dcc9",
   "metadata": {},
   "source": [
    "# Distribuzione Poisson"
   ]
  },
  {
   "cell_type": "markdown",
   "id": "cb3660f0",
   "metadata": {},
   "source": [
    "La Distribuzione di Poisson è una distribuzione di probabilità discreta che viene utilizzata quando si vuole conoscere la probabilità che un certo numero di successi/eventi si verifichino in un determinato intervallo temporale.\n",
    "\n",
    "Esempi:\n",
    "Calcolare la probabilità di avere un determinato numero di visitatori sul proprio sito entro un'ora, conoscendo la media dei visitatori passati per ora.\n",
    "\n",
    "Stimare il numero di incidenti d'auto a un incrocio sulla base dello storico passato.\n",
    "I parametri per utilizzare la formula di Poisson sono i seguenti:\n",
    "\n",
    "x = numero di eventi in un determinato intervallo\n",
    "\n",
    "λ = il numero medio di eventi per intervallo (media)\n",
    "\n",
    "e = numero di Eulero (costante uguale a 2,71828...)\n",
    "\n",
    "\n",
    "λ^x * e^-λ/x!, dove λ numero medio di successi su un intervallo Var(X)=λ "
   ]
  },
  {
   "cell_type": "markdown",
   "id": "a5a98ac4",
   "metadata": {},
   "source": [
    "# Esempio 1"
   ]
  },
  {
   "cell_type": "markdown",
   "id": "1d33b56c",
   "metadata": {},
   "source": [
    "Il numero di chiamate in arrivo ad un call center segue una distribuzione di Poisson a un tasso di 5 chiamate/ora.\n",
    "Qual'è la probabilità che arrivino esattamente 6 chiamate tra le 22 e le 23? (praticamente la probabilità di avere 6 chiamate in un ora piuttosto che 5)"
   ]
  },
  {
   "cell_type": "code",
   "execution_count": 11,
   "id": "4bedb587",
   "metadata": {},
   "outputs": [
    {
     "data": {
      "text/plain": [
       "0.1462228081398754"
      ]
     },
     "execution_count": 11,
     "metadata": {},
     "output_type": "execute_result"
    }
   ],
   "source": [
    "proba_6= sp.stats.poisson.pmf(\n",
    "         k=6,  #x -> 6 chiamate/ora\n",
    "         mu=5) #mean(λ) 5 chiamate/ora\n",
    "\n",
    "proba_6 #Abbiamo il 14.6% di probabilità di avere esattamente 6 chiamate/ora."
   ]
  },
  {
   "cell_type": "markdown",
   "id": "a94cd30c",
   "metadata": {},
   "source": [
    "# Esempio 2"
   ]
  },
  {
   "cell_type": "markdown",
   "id": "d90abc54",
   "metadata": {},
   "source": [
    "Un Ristorante riceve in media 100 clienti al giorno.\n",
    "Determina le seguenti probabilità:\n",
    "P(X > 110 clienti in un determinato giorno)?"
   ]
  },
  {
   "cell_type": "code",
   "execution_count": 14,
   "id": "b04b8077",
   "metadata": {},
   "outputs": [
    {
     "data": {
      "text/plain": [
       "0.14713734844226967"
      ]
     },
     "execution_count": 14,
     "metadata": {},
     "output_type": "execute_result"
    }
   ],
   "source": [
    "proba_g_110= 1 - sp.stats.poisson.cdf(k=110, mu=100) \n",
    "\n",
    "proba_g_110 "
   ]
  },
  {
   "cell_type": "markdown",
   "id": "415bba2a",
   "metadata": {},
   "source": [
    "# Distribuzione Normale "
   ]
  },
  {
   "cell_type": "markdown",
   "id": "90239ad8",
   "metadata": {},
   "source": [
    "La Distribuzione Normale o Gaussiana è la distribuzione di probabilità continua più importante ed utilizzata in statistica.\n",
    "\n",
    "Caratteristiche:\n",
    "\n",
    "La curva delle frequenze della distribuzione Normale ha una forma caratteristica, simile ad una campana\n",
    "Il valore medio si trova esattamente al centro della distribuzione, e la curva è simmetrica rispetto ad esso: quindi valor medio, mediana e moda coincidono\n",
    "\n",
    "La maggior parte delle osservazioni si concentrano intorno al valore medio\n",
    "\n",
    "Allontanandosi dal valore medio, la curva si avvicina sempre più all’asse delle ascisse ma non giunge mai a toccarlo: quindi si possono avere anche (pochissime) osservazioni che risultano molto distanti dalla media\n",
    "\n",
    "Regola empirica della Distribuzione Normale:\n",
    "\n",
    "Il 68,26% dei valori è compreso fra -1 e +1 deviazioni standard.\n",
    "\n",
    "Il 95,44% dei valori è compreso fra -2 e +2 deviazioni standard.\n",
    "\n",
    "Il 99,73% dei valori è compreso fra -3 e +3 deviazioni standard.\n",
    "\n",
    "Un'area di probabilità del 95% è compresa fra -1.96 e +1.96 deviazioni standard.\n",
    "\n",
    "Un'area di probabilità del 99% è compresa fra -2.576 e + 2.576 deviazioni standard.\n",
    "\n",
    "La Distribuzione Normale risulta la più importante perchè la maggior parte della variabili nel mondo reale segue esattamente una distribuzione di tipo normale come ad esempio: Altezza popolazione, peso, misurazioni mediche, voti scolastici, variabili di tipo finanziario etc."
   ]
  },
  {
   "cell_type": "markdown",
   "id": "f82804c6",
   "metadata": {},
   "source": [
    "pdf= (1/σ√2π)* e^(-(x-μ)^2)/(2σ^2), dove μ=media, σ=std"
   ]
  },
  {
   "cell_type": "markdown",
   "id": "e19dda01",
   "metadata": {},
   "source": [
    "# Esempio 1"
   ]
  },
  {
   "cell_type": "markdown",
   "id": "f5254bb4",
   "metadata": {},
   "source": [
    "In India in una scuola superiore i voti del test di matematica seguono una Distribuzione Normale con media=100 e deviazione standard= 15"
   ]
  },
  {
   "cell_type": "code",
   "execution_count": 15,
   "id": "3154c463",
   "metadata": {},
   "outputs": [],
   "source": [
    "mean=100\n",
    "sd=15\n",
    "\n",
    "#instanciate normal distributed random variable with mean=100 and sd=15\n",
    "\n",
    "X_rv= sp.stats.norm(loc=mean, scale=sd)"
   ]
  },
  {
   "cell_type": "markdown",
   "id": "bfd2222e",
   "metadata": {},
   "source": [
    "Il Ministro dell'Educazione indiano decide che il punteggio minimo che gli studenti devono raggiungere per essere considerati competenti in matematica è di 80 punti.\n",
    "Qual'è quindi la % di studenti che riuscirà a raggiungere un punteggio >=80 ?"
   ]
  },
  {
   "cell_type": "code",
   "execution_count": 16,
   "id": "303fb25d",
   "metadata": {},
   "outputs": [
    {
     "data": {
      "text/plain": [
       "0.9087887802741321"
      ]
     },
     "execution_count": 16,
     "metadata": {},
     "output_type": "execute_result"
    }
   ],
   "source": [
    "#Let's use the Cdf\n",
    "\n",
    "p_g_80= 1 - X_rv.cdf(80) \n",
    "p_g_80 #circa il 91% verrà considerato competente in matematica"
   ]
  },
  {
   "cell_type": "markdown",
   "id": "c5605dae",
   "metadata": {},
   "source": [
    "Un'università indiana molto selettiva vuole fissare uno standard molto elevato agli studenti della scuola superiore per poter accedere ai loro corsi.\n",
    "L'università ammetterà soltanto gli studenti con un punteggio nel test di matematica facente parte del 2% dei migliori punteggi della popolazione.\n",
    "Quale punteggio minimo quindi dovranno ottenere gli studenti per poter entrare all'università?"
   ]
  },
  {
   "cell_type": "code",
   "execution_count": 17,
   "id": "22c9a3ad",
   "metadata": {},
   "outputs": [
    {
     "name": "stdout",
     "output_type": "stream",
     "text": [
      "Il punteggio minimo è pari a: 130.80623365947733\n"
     ]
    }
   ],
   "source": [
    "#Dobbiamo usare in questo caso l'inversa della Cdf > Ppf (Percent point function (inverse of cdf)\n",
    "#per ottenere il punteggio relativo al 2% (punteggi/valori dal 98% al 100% della nostra Distribuzione)\n",
    "\n",
    "proportion_of_admitted= 0.02 #2%\n",
    "\n",
    "#Let's use the inverse of Cdf -> Ppf (Percent point function (inverse of cdf)\n",
    "\n",
    "score= X_rv.ppf(1 - proportion_of_admitted) #100% - cdf fino al 98%\n",
    "\n",
    "print('Il punteggio minimo è pari a:', score)"
   ]
  },
  {
   "cell_type": "markdown",
   "id": "a8e6a4c2",
   "metadata": {},
   "source": [
    "# Esempio 2"
   ]
  },
  {
   "cell_type": "markdown",
   "id": "682febfc",
   "metadata": {},
   "source": [
    "The heights of the 430 National Basketball Association players were listed on team rosters at the start of the 2005–2006 season.\n",
    "\n",
    "The heights of basketball players have an approximate normal distribution with mean, µ = 79 inches and a standard deviation, σ = 3.89 inches.\n",
    "\n",
    "For each of the following heights, calculate the z-score and interpret it using complete sentences.\n",
    "\n",
    "77 inches\n",
    "\n",
    "85 inches\n",
    "\n",
    "If an NBA player reported his height had a z-score of 3.5, would you believe him? Explain your answer.\n",
    "\n",
    "Z=x-μ/σ"
   ]
  },
  {
   "cell_type": "code",
   "execution_count": 21,
   "id": "842dccde",
   "metadata": {},
   "outputs": [],
   "source": [
    "mean= 79\n",
    "sd=3.89"
   ]
  },
  {
   "cell_type": "code",
   "execution_count": 22,
   "id": "1497c566",
   "metadata": {},
   "outputs": [
    {
     "data": {
      "text/plain": [
       "-0.5141388174807198"
      ]
     },
     "execution_count": 22,
     "metadata": {},
     "output_type": "execute_result"
    }
   ],
   "source": [
    "z_score_77= (77-79) / 3.89 # \"quante deviazioni standard è distante dalla media\"\n",
    "z_score_77 "
   ]
  },
  {
   "cell_type": "markdown",
   "id": "efa61b5d",
   "metadata": {},
   "source": [
    "The height of 77 inches is 0.5141 standard deviations below the mean. An NBA player whose height is 77 inches is shorter than average."
   ]
  },
  {
   "cell_type": "code",
   "execution_count": 23,
   "id": "cde3885f",
   "metadata": {},
   "outputs": [
    {
     "data": {
      "text/plain": [
       "1.5424164524421593"
      ]
     },
     "execution_count": 23,
     "metadata": {},
     "output_type": "execute_result"
    }
   ],
   "source": [
    "z_score_85= (85-79) / 3.89\n",
    "z_score_85"
   ]
  },
  {
   "cell_type": "markdown",
   "id": "b55d640f",
   "metadata": {},
   "source": [
    "The height 85 inches is 1.5424 standard deviations above the mean. An NBA player whose height is 85 inches is taller than average."
   ]
  },
  {
   "cell_type": "markdown",
   "id": "e5ffbbb1",
   "metadata": {},
   "source": [
    "\"If an NBA player reported his height had a z-score of 3.5, would you believe him? Explain your answer.\" 👇\n",
    "Z-score= 3.5 --> 0.0233%"
   ]
  },
  {
   "cell_type": "markdown",
   "id": "db01932d",
   "metadata": {},
   "source": [
    "Riconverto Z score --> X=μ+Zσ"
   ]
  },
  {
   "cell_type": "code",
   "execution_count": 24,
   "id": "418b132d",
   "metadata": {},
   "outputs": [
    {
     "data": {
      "text/plain": [
       "92.615"
      ]
     },
     "execution_count": 24,
     "metadata": {},
     "output_type": "execute_result"
    }
   ],
   "source": [
    "height= mean + 3.5*sd #convert from z_score to real value\n",
    "height"
   ]
  },
  {
   "cell_type": "code",
   "execution_count": 26,
   "id": "ea13096a",
   "metadata": {},
   "outputs": [
    {
     "name": "stdout",
     "output_type": "stream",
     "text": [
      "Probability of height equal to 92.615 -> 3.5 zscore is : 0.02326290790355401%\n"
     ]
    }
   ],
   "source": [
    "X_rv= sp.stats.norm(loc=mean, scale= sd)\n",
    "\n",
    "proba_g_92= 1 - X_rv.cdf(92.615)\n",
    "\n",
    "print(f'Probability of height equal to 92.615 -> 3.5 zscore is : {proba_g_92*100}%') #quasi nulla, MOLTO IMPROBABILE"
   ]
  },
  {
   "cell_type": "markdown",
   "id": "429cce5d",
   "metadata": {},
   "source": [
    "# Teorema Limite Centrale"
   ]
  },
  {
   "cell_type": "markdown",
   "id": "70a88ee5",
   "metadata": {},
   "source": [
    "Il teorema del limite centrale insieme alla legge dei grandi numeri è uno dei teoremi fondamentali in statistica e probabilità.\n",
    "\n",
    "Esso afferma infatti che la distribuzione della media campionaria è normale a condizione che l'ampiezza del campione sia sufficientemente grande, solitamente >=30.\n",
    "\n",
    "Questo vuol dire che se estraiamo in maniera casuale una serie di n.campioni di grandezza >=30 dalla popolazione di partenza e calcoliamo la media dei valori per ciascun campione, le medie che otterremo si distribuiranno seguendo la forma della Distribuzione Normale.Questo avviene indipendentemente dalla distribuzione della popolazione di partenza.\n",
    "\n",
    "Sapendo infatti che la distribuzione della media campionaria è normale possiamo mettere in pratica la regola empirica della distribuzione normale:\n",
    "\n",
    "Il 68,26% dei valori è compreso fra -1 e +1 deviazioni standard.\n",
    "\n",
    "Il 95,44% dei valori è compreso fra -2 e +2 deviazioni standard.\n",
    "\n",
    "Il 99,73% dei valori è compreso fra -3 e +3 deviazioni standard.\n",
    "\n",
    "Un'area di probabilità del 95% è compresa fra -1.96 e +1.96 deviazioni standard.\n",
    "\n",
    "Un'area di probabilità del 99% è compresa fra -2.576 e + 2.576 deviazioni standard.\n",
    "\n",
    "Data una popolazione, consideriamo una feature (esempio: altezza, peso, stipendio, etc...) per ogni individuo.\n",
    "Qualsiasi sia la forma della distribuzione di partenza (popolazione) la distribuzione delle medie dei campioni presi dalla popolazione tenderà ad una distribuzione normale."
   ]
  },
  {
   "cell_type": "markdown",
   "id": "6d94c832",
   "metadata": {},
   "source": [
    "Qualsiasi sia la forma della distribuzione di partenza (popolazione) la distribuzione delle medie dei campioni presi dalla popolazione tenderà ad una distribuzione normale.\n",
    "\n",
    "the mean of the means =  μ (Law of Large Numbers)\n",
    "\n",
    "the standard deviation of the means =  𝜎/√𝑛 (Central Limit Theorem)"
   ]
  },
  {
   "cell_type": "code",
   "execution_count": 31,
   "id": "440cb43e",
   "metadata": {},
   "outputs": [
    {
     "data": {
      "text/html": [
       "<div>\n",
       "<style scoped>\n",
       "    .dataframe tbody tr th:only-of-type {\n",
       "        vertical-align: middle;\n",
       "    }\n",
       "\n",
       "    .dataframe tbody tr th {\n",
       "        vertical-align: top;\n",
       "    }\n",
       "\n",
       "    .dataframe thead th {\n",
       "        text-align: right;\n",
       "    }\n",
       "</style>\n",
       "<table border=\"1\" class=\"dataframe\">\n",
       "  <thead>\n",
       "    <tr style=\"text-align: right;\">\n",
       "      <th></th>\n",
       "      <th>total_bill</th>\n",
       "      <th>tip</th>\n",
       "      <th>sex</th>\n",
       "      <th>smoker</th>\n",
       "      <th>day</th>\n",
       "      <th>time</th>\n",
       "      <th>size</th>\n",
       "    </tr>\n",
       "  </thead>\n",
       "  <tbody>\n",
       "    <tr>\n",
       "      <th>0</th>\n",
       "      <td>16.99</td>\n",
       "      <td>1.01</td>\n",
       "      <td>Female</td>\n",
       "      <td>No</td>\n",
       "      <td>Sun</td>\n",
       "      <td>Dinner</td>\n",
       "      <td>2</td>\n",
       "    </tr>\n",
       "    <tr>\n",
       "      <th>1</th>\n",
       "      <td>10.34</td>\n",
       "      <td>1.66</td>\n",
       "      <td>Male</td>\n",
       "      <td>No</td>\n",
       "      <td>Sun</td>\n",
       "      <td>Dinner</td>\n",
       "      <td>3</td>\n",
       "    </tr>\n",
       "    <tr>\n",
       "      <th>2</th>\n",
       "      <td>21.01</td>\n",
       "      <td>3.50</td>\n",
       "      <td>Male</td>\n",
       "      <td>No</td>\n",
       "      <td>Sun</td>\n",
       "      <td>Dinner</td>\n",
       "      <td>3</td>\n",
       "    </tr>\n",
       "    <tr>\n",
       "      <th>3</th>\n",
       "      <td>23.68</td>\n",
       "      <td>3.31</td>\n",
       "      <td>Male</td>\n",
       "      <td>No</td>\n",
       "      <td>Sun</td>\n",
       "      <td>Dinner</td>\n",
       "      <td>2</td>\n",
       "    </tr>\n",
       "    <tr>\n",
       "      <th>4</th>\n",
       "      <td>24.59</td>\n",
       "      <td>3.61</td>\n",
       "      <td>Female</td>\n",
       "      <td>No</td>\n",
       "      <td>Sun</td>\n",
       "      <td>Dinner</td>\n",
       "      <td>4</td>\n",
       "    </tr>\n",
       "    <tr>\n",
       "      <th>...</th>\n",
       "      <td>...</td>\n",
       "      <td>...</td>\n",
       "      <td>...</td>\n",
       "      <td>...</td>\n",
       "      <td>...</td>\n",
       "      <td>...</td>\n",
       "      <td>...</td>\n",
       "    </tr>\n",
       "    <tr>\n",
       "      <th>239</th>\n",
       "      <td>29.03</td>\n",
       "      <td>5.92</td>\n",
       "      <td>Male</td>\n",
       "      <td>No</td>\n",
       "      <td>Sat</td>\n",
       "      <td>Dinner</td>\n",
       "      <td>3</td>\n",
       "    </tr>\n",
       "    <tr>\n",
       "      <th>240</th>\n",
       "      <td>27.18</td>\n",
       "      <td>2.00</td>\n",
       "      <td>Female</td>\n",
       "      <td>Yes</td>\n",
       "      <td>Sat</td>\n",
       "      <td>Dinner</td>\n",
       "      <td>2</td>\n",
       "    </tr>\n",
       "    <tr>\n",
       "      <th>241</th>\n",
       "      <td>22.67</td>\n",
       "      <td>2.00</td>\n",
       "      <td>Male</td>\n",
       "      <td>Yes</td>\n",
       "      <td>Sat</td>\n",
       "      <td>Dinner</td>\n",
       "      <td>2</td>\n",
       "    </tr>\n",
       "    <tr>\n",
       "      <th>242</th>\n",
       "      <td>17.82</td>\n",
       "      <td>1.75</td>\n",
       "      <td>Male</td>\n",
       "      <td>No</td>\n",
       "      <td>Sat</td>\n",
       "      <td>Dinner</td>\n",
       "      <td>2</td>\n",
       "    </tr>\n",
       "    <tr>\n",
       "      <th>243</th>\n",
       "      <td>18.78</td>\n",
       "      <td>3.00</td>\n",
       "      <td>Female</td>\n",
       "      <td>No</td>\n",
       "      <td>Thur</td>\n",
       "      <td>Dinner</td>\n",
       "      <td>2</td>\n",
       "    </tr>\n",
       "  </tbody>\n",
       "</table>\n",
       "<p>244 rows × 7 columns</p>\n",
       "</div>"
      ],
      "text/plain": [
       "     total_bill   tip     sex smoker   day    time  size\n",
       "0         16.99  1.01  Female     No   Sun  Dinner     2\n",
       "1         10.34  1.66    Male     No   Sun  Dinner     3\n",
       "2         21.01  3.50    Male     No   Sun  Dinner     3\n",
       "3         23.68  3.31    Male     No   Sun  Dinner     2\n",
       "4         24.59  3.61  Female     No   Sun  Dinner     4\n",
       "..          ...   ...     ...    ...   ...     ...   ...\n",
       "239       29.03  5.92    Male     No   Sat  Dinner     3\n",
       "240       27.18  2.00  Female    Yes   Sat  Dinner     2\n",
       "241       22.67  2.00    Male    Yes   Sat  Dinner     2\n",
       "242       17.82  1.75    Male     No   Sat  Dinner     2\n",
       "243       18.78  3.00  Female     No  Thur  Dinner     2\n",
       "\n",
       "[244 rows x 7 columns]"
      ]
     },
     "execution_count": 31,
     "metadata": {},
     "output_type": "execute_result"
    }
   ],
   "source": [
    "tips_df = sns.load_dataset('tips')\n",
    "tips_df"
   ]
  },
  {
   "cell_type": "code",
   "execution_count": 32,
   "id": "4a48e363",
   "metadata": {},
   "outputs": [
    {
     "data": {
      "text/plain": [
       "<AxesSubplot: ylabel='Count'>"
      ]
     },
     "execution_count": 32,
     "metadata": {},
     "output_type": "execute_result"
    },
    {
     "data": {
      "image/png": "[encoded data removed]",
      "text/plain": [
       "<Figure size 640x480 with 1 Axes>"
      ]
     },
     "metadata": {},
     "output_type": "display_data"
    }
   ],
   "source": [
    "n = 30 # CLT applies mostly with n>=30\n",
    "N = 100\n",
    "\n",
    "means = [tips_df.tip.sample(n, replace=True).mean() for i in range(N)]\n",
    "\n",
    "sns.histplot(means, bins=20, kde=True)"
   ]
  },
  {
   "cell_type": "code",
   "execution_count": 34,
   "id": "cdb9f7f2",
   "metadata": {},
   "outputs": [
    {
     "name": "stdout",
     "output_type": "stream",
     "text": [
      "Mean: 2.99827868852459\n",
      "Standard Deviation: 1.3836381890011822\n",
      "Skewness: right\n"
     ]
    }
   ],
   "source": [
    "mu = tips_df['tip'].mean() #media delle tips\n",
    "\n",
    "print('Mean:', mu)\n",
    "\n",
    "sd = tips_df['tip'].std() #deviazione standard delle tips\n",
    "\n",
    "print('Standard Deviation:', sd)\n",
    "\n",
    "skewness = 'right'  #asimmetria a destra in questo caso\n",
    "\n",
    "print('Skewness:', skewness) #asimmetria a destra in questo caso"
   ]
  },
  {
   "cell_type": "code",
   "execution_count": 35,
   "id": "856a86df",
   "metadata": {},
   "outputs": [
    {
     "data": {
      "text/html": [
       "<div>\n",
       "<style scoped>\n",
       "    .dataframe tbody tr th:only-of-type {\n",
       "        vertical-align: middle;\n",
       "    }\n",
       "\n",
       "    .dataframe tbody tr th {\n",
       "        vertical-align: top;\n",
       "    }\n",
       "\n",
       "    .dataframe thead th {\n",
       "        text-align: right;\n",
       "    }\n",
       "</style>\n",
       "<table border=\"1\" class=\"dataframe\">\n",
       "  <thead>\n",
       "    <tr style=\"text-align: right;\">\n",
       "      <th></th>\n",
       "      <th>CLT Theory</th>\n",
       "      <th>Real Tips</th>\n",
       "    </tr>\n",
       "  </thead>\n",
       "  <tbody>\n",
       "    <tr>\n",
       "      <th>mean</th>\n",
       "      <td>3.00</td>\n",
       "      <td>2.96</td>\n",
       "    </tr>\n",
       "    <tr>\n",
       "      <th>stdev</th>\n",
       "      <td>0.25</td>\n",
       "      <td>0.24</td>\n",
       "    </tr>\n",
       "    <tr>\n",
       "      <th>skewness</th>\n",
       "      <td>0.00</td>\n",
       "      <td>0.09</td>\n",
       "    </tr>\n",
       "  </tbody>\n",
       "</table>\n",
       "</div>"
      ],
      "text/plain": [
       "          CLT Theory  Real Tips\n",
       "mean            3.00       2.96\n",
       "stdev           0.25       0.24\n",
       "skewness        0.00       0.09"
      ]
     },
     "execution_count": 35,
     "metadata": {},
     "output_type": "execute_result"
    }
   ],
   "source": [
    "index_df = ['mean', 'stdev','skewness']\n",
    "\n",
    "theory = [mu, sd/np.sqrt(n), 0]\n",
    "\n",
    "real_life = [np.mean(means), np.std(means), sp.stats.skew(means)] \n",
    "\n",
    "comparison_df = pd.DataFrame(list(zip(theory,real_life)), \n",
    "                             columns = [\"CLT Theory\",\"Real Tips\"],\n",
    "                             index = index_df)\n",
    "round(comparison_df,2)\n",
    "\n",
    "#oppure usa describe() sul dataframe"
   ]
  },
  {
   "cell_type": "markdown",
   "id": "5688d942",
   "metadata": {},
   "source": [
    "# Intervallo di confidenza"
   ]
  },
  {
   "cell_type": "markdown",
   "id": "3960bf82",
   "metadata": {},
   "source": [
    "Dopo aver visto il Teorema del Limite Centrale e la sua importanza, in quanto ci dice che la distribuzione della media campionaria è normale a patto che l'ampiezza del campione sia sufficientemente grande (>= 30) e questo avviene indipendentemente dalla distribuzione della popolazione.\n",
    "\n",
    "Quello che vogliamo fare adesso è costruire degli intervalli di confidenza che ci consentano di stabilire con quanta sicurezza possiamo affermare che il parametro della popolazione che vogliamo valutare (per esempio la media della popolazione) ricada proprio all'interno di questi intervalli.\n",
    "\n",
    "Questi intervalli di confidenza verranno costruiti sulla base di campioni estratti dalla popolazione iniziale in modo da capire con quanta sicurezza il reale parametro della popolazione (es:media) sia contenuto all'interno dei limiti dell'intervallo di confidenza del campione.\n",
    "\n",
    "Solitamente l'intervallo di confidenza più utilizzato è quello del 95%.\n",
    "\n",
    "Per calcolare i limiti dell'intervallo servono 4 valori:\n",
    "\n",
    "La media del campione\n",
    "\n",
    "L'ampiezza del campione (grandezza)\n",
    "\n",
    "La deviazione standard della popolazione (o del campione in caso non fosse disponibile)\n",
    "\n",
    "Il coefficiente di confidenza\n",
    "\n",
    "Praticamente i limiti (i valori) dell'intervallo di confidenza vengono calcolati facendo la media del campione X più o meno il coefficiente di confidenza Z che moltiplica l'errore standard del campione."
   ]
  },
  {
   "cell_type": "markdown",
   "id": "ab1aacaf",
   "metadata": {},
   "source": [
    "# Esempio 1"
   ]
  },
  {
   "cell_type": "markdown",
   "id": "5af73b99",
   "metadata": {},
   "source": [
    "You want to rent an unfurnished one-bedroom apartment in Boston next year.\n",
    "\n",
    "The mean monthly rent for a random sample of 60 apartments advertised on Airbnb is $1000.\n",
    "\n",
    "Assume a population standard deviation of $200. Construct a 95% confidence interval."
   ]
  },
  {
   "cell_type": "code",
   "execution_count": 37,
   "id": "ca396fe1",
   "metadata": {},
   "outputs": [
    {
     "name": "stderr",
     "output_type": "stream",
     "text": [
      "/var/folders/fq/5pj89kx1705c62qq2l7hgw440000gn/T/ipykernel_1008/684044097.py:8: DeprecationWarning: Use of keyword argument `alpha` for method `interval` is deprecated. Use first positional argument or keyword argument `confidence` instead.\n",
      "  confidence_interval= sp.stats.norm.interval(alpha=0.95, loc=sample_mean, scale=(sd/np.sqrt(sample_size)))\n"
     ]
    },
    {
     "data": {
      "text/plain": [
       "(949.3939475247336, 1050.6060524752663)"
      ]
     },
     "execution_count": 37,
     "metadata": {},
     "output_type": "execute_result"
    }
   ],
   "source": [
    "sample_mean= 1000 #media del campione\n",
    "sample_size=60 #grandezza del campione (>=30)\n",
    "sd=200 #deviazione standard della popolazione\n",
    "confidence_value= 0.95 #95%\n",
    "\n",
    "#Let's calculate the confidence interval:\n",
    "\n",
    "confidence_interval= sp.stats.norm.interval(alpha=0.95, loc=sample_mean, scale=(sd/np.sqrt(sample_size)))\n",
    "confidence_interval"
   ]
  },
  {
   "cell_type": "code",
   "execution_count": 38,
   "id": "d56c2fe0",
   "metadata": {},
   "outputs": [
    {
     "data": {
      "text/plain": [
       "(949.3930176095564, 1050.6069823904436)"
      ]
     },
     "execution_count": 38,
     "metadata": {},
     "output_type": "execute_result"
    }
   ],
   "source": [
    "#Manually:\n",
    "\n",
    "confidence_interval= ( (1000 - 1.96*(200/np.sqrt(60))), (1000 + 1.96*(200/np.sqrt(60))) ) \n",
    "confidence_interval"
   ]
  }
 ],
 "metadata": {
  "kernelspec": {
   "display_name": "Python 3 (ipykernel)",
   "language": "python",
   "name": "python3"
  },
  "language_info": {
   "codemirror_mode": {
    "name": "ipython",
    "version": 3
   },
   "file_extension": ".py",
   "mimetype": "text/x-python",
   "name": "python",
   "nbconvert_exporter": "python",
   "pygments_lexer": "ipython3",
   "version": "3.9.15"
  }
 },
 "nbformat": 4,
 "nbformat_minor": 5
}
